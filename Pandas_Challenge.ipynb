{
 "cells": [
  {
   "cell_type": "code",
   "execution_count": 85,
   "metadata": {},
   "outputs": [],
   "source": [
    "# Dependencies and Setup\n",
    "import pandas as pd\n",
    "\n",
    "# File to Load (Remember to Change These)\n",
    "file_to_load = \"Resources/purchase_data.csv\"\n",
    "\n",
    "# Read Purchasing File and store into Pandas data frame\n",
    "purchase_data = pd.read_csv(file_to_load)\n"
   ]
  },
  {
   "cell_type": "code",
   "execution_count": 86,
   "metadata": {},
   "outputs": [
    {
     "data": {
      "text/html": [
       "<div>\n",
       "<style scoped>\n",
       "    .dataframe tbody tr th:only-of-type {\n",
       "        vertical-align: middle;\n",
       "    }\n",
       "\n",
       "    .dataframe tbody tr th {\n",
       "        vertical-align: top;\n",
       "    }\n",
       "\n",
       "    .dataframe thead th {\n",
       "        text-align: right;\n",
       "    }\n",
       "</style>\n",
       "<table border=\"1\" class=\"dataframe\">\n",
       "  <thead>\n",
       "    <tr style=\"text-align: right;\">\n",
       "      <th></th>\n",
       "      <th>Purchase ID</th>\n",
       "      <th>SN</th>\n",
       "      <th>Age</th>\n",
       "      <th>Gender</th>\n",
       "      <th>Item ID</th>\n",
       "      <th>Item Name</th>\n",
       "      <th>Price</th>\n",
       "    </tr>\n",
       "  </thead>\n",
       "  <tbody>\n",
       "    <tr>\n",
       "      <td>0</td>\n",
       "      <td>0</td>\n",
       "      <td>Lisim78</td>\n",
       "      <td>20</td>\n",
       "      <td>Male</td>\n",
       "      <td>108</td>\n",
       "      <td>Extraction, Quickblade Of Trembling Hands</td>\n",
       "      <td>3.53</td>\n",
       "    </tr>\n",
       "    <tr>\n",
       "      <td>1</td>\n",
       "      <td>1</td>\n",
       "      <td>Lisovynya38</td>\n",
       "      <td>40</td>\n",
       "      <td>Male</td>\n",
       "      <td>143</td>\n",
       "      <td>Frenzied Scimitar</td>\n",
       "      <td>1.56</td>\n",
       "    </tr>\n",
       "    <tr>\n",
       "      <td>2</td>\n",
       "      <td>2</td>\n",
       "      <td>Ithergue48</td>\n",
       "      <td>24</td>\n",
       "      <td>Male</td>\n",
       "      <td>92</td>\n",
       "      <td>Final Critic</td>\n",
       "      <td>4.88</td>\n",
       "    </tr>\n",
       "    <tr>\n",
       "      <td>3</td>\n",
       "      <td>3</td>\n",
       "      <td>Chamassasya86</td>\n",
       "      <td>24</td>\n",
       "      <td>Male</td>\n",
       "      <td>100</td>\n",
       "      <td>Blindscythe</td>\n",
       "      <td>3.27</td>\n",
       "    </tr>\n",
       "    <tr>\n",
       "      <td>4</td>\n",
       "      <td>4</td>\n",
       "      <td>Iskosia90</td>\n",
       "      <td>23</td>\n",
       "      <td>Male</td>\n",
       "      <td>131</td>\n",
       "      <td>Fury</td>\n",
       "      <td>1.44</td>\n",
       "    </tr>\n",
       "  </tbody>\n",
       "</table>\n",
       "</div>"
      ],
      "text/plain": [
       "   Purchase ID             SN  Age Gender  Item ID  \\\n",
       "0            0        Lisim78   20   Male      108   \n",
       "1            1    Lisovynya38   40   Male      143   \n",
       "2            2     Ithergue48   24   Male       92   \n",
       "3            3  Chamassasya86   24   Male      100   \n",
       "4            4      Iskosia90   23   Male      131   \n",
       "\n",
       "                                   Item Name  Price  \n",
       "0  Extraction, Quickblade Of Trembling Hands   3.53  \n",
       "1                          Frenzied Scimitar   1.56  \n",
       "2                               Final Critic   4.88  \n",
       "3                                Blindscythe   3.27  \n",
       "4                                       Fury   1.44  "
      ]
     },
     "execution_count": 86,
     "metadata": {},
     "output_type": "execute_result"
    }
   ],
   "source": [
    "purchase_data.head()"
   ]
  },
  {
   "cell_type": "code",
   "execution_count": 87,
   "metadata": {},
   "outputs": [
    {
     "data": {
      "text/html": [
       "<div>\n",
       "<style scoped>\n",
       "    .dataframe tbody tr th:only-of-type {\n",
       "        vertical-align: middle;\n",
       "    }\n",
       "\n",
       "    .dataframe tbody tr th {\n",
       "        vertical-align: top;\n",
       "    }\n",
       "\n",
       "    .dataframe thead th {\n",
       "        text-align: right;\n",
       "    }\n",
       "</style>\n",
       "<table border=\"1\" class=\"dataframe\">\n",
       "  <thead>\n",
       "    <tr style=\"text-align: right;\">\n",
       "      <th></th>\n",
       "      <th>Total Players</th>\n",
       "    </tr>\n",
       "  </thead>\n",
       "  <tbody>\n",
       "    <tr>\n",
       "      <td>0</td>\n",
       "      <td>576</td>\n",
       "    </tr>\n",
       "  </tbody>\n",
       "</table>\n",
       "</div>"
      ],
      "text/plain": [
       "   Total Players\n",
       "0            576"
      ]
     },
     "execution_count": 87,
     "metadata": {},
     "output_type": "execute_result"
    }
   ],
   "source": [
    "total_players = len(purchase_data[\"SN\"].unique())\n",
    "total_players_table = pd.DataFrame({\"Total Players\": [total_players]})\n",
    "total_players_table"
   ]
  },
  {
   "cell_type": "code",
   "execution_count": 88,
   "metadata": {},
   "outputs": [],
   "source": [
    "unique_items = len(purchase_data[\"Item ID\"].unique())\n",
    "avg_price = purchase_data[\"Price\"].mean()\n",
    "num_purchases = len(purchase_data[\"Purchase ID\"].value_counts())\n",
    "total_rev = purchase_data[\"Price\"].sum()"
   ]
  },
  {
   "cell_type": "code",
   "execution_count": 89,
   "metadata": {},
   "outputs": [
    {
     "data": {
      "text/html": [
       "<div>\n",
       "<style scoped>\n",
       "    .dataframe tbody tr th:only-of-type {\n",
       "        vertical-align: middle;\n",
       "    }\n",
       "\n",
       "    .dataframe tbody tr th {\n",
       "        vertical-align: top;\n",
       "    }\n",
       "\n",
       "    .dataframe thead th {\n",
       "        text-align: right;\n",
       "    }\n",
       "</style>\n",
       "<table border=\"1\" class=\"dataframe\">\n",
       "  <thead>\n",
       "    <tr style=\"text-align: right;\">\n",
       "      <th></th>\n",
       "      <th>Unique Items Count</th>\n",
       "      <th>Average Price</th>\n",
       "      <th>Total Purchase</th>\n",
       "      <th>Total Revenue</th>\n",
       "    </tr>\n",
       "  </thead>\n",
       "  <tbody>\n",
       "    <tr>\n",
       "      <td>0</td>\n",
       "      <td>183</td>\n",
       "      <td>$3.05</td>\n",
       "      <td>780</td>\n",
       "      <td>$2,379.77</td>\n",
       "    </tr>\n",
       "  </tbody>\n",
       "</table>\n",
       "</div>"
      ],
      "text/plain": [
       "   Unique Items Count Average Price  Total Purchase Total Revenue\n",
       "0                 183         $3.05             780     $2,379.77"
      ]
     },
     "execution_count": 89,
     "metadata": {},
     "output_type": "execute_result"
    }
   ],
   "source": [
    "purchase_analysis = pd.DataFrame({\"Unique Items Count\": [unique_items], \"Average Price\": [avg_price], \n",
    "                                  \"Total Purchase\": [num_purchases], \"Total Revenue\": [total_rev]})\n",
    "purchase_analysis['Average Price'] = purchase_analysis['Average Price'].map('${0:,.2f}'.format)\n",
    "purchase_analysis['Total Revenue'] = purchase_analysis['Total Revenue'].map('${0:,.2f}'.format)\n",
    "purchase_analysis"
   ]
  },
  {
   "cell_type": "code",
   "execution_count": 90,
   "metadata": {
    "scrolled": true
   },
   "outputs": [
    {
     "data": {
      "text/html": [
       "<style  type=\"text/css\" >\n",
       "</style><table id=\"T_a8c2cf66_d3f4_11e9_8188_98e0d980d269\" ><thead>    <tr>        <th class=\"blank level0\" ></th>        <th class=\"col_heading level0 col0\" >Percentage of Players</th>        <th class=\"col_heading level0 col1\" >Total Count</th>    </tr></thead><tbody>\n",
       "                <tr>\n",
       "                        <th id=\"T_a8c2cf66_d3f4_11e9_8188_98e0d980d269level0_row0\" class=\"row_heading level0 row0\" >Male</th>\n",
       "                        <td id=\"T_a8c2cf66_d3f4_11e9_8188_98e0d980d269row0_col0\" class=\"data row0 col0\" >84.03%</td>\n",
       "                        <td id=\"T_a8c2cf66_d3f4_11e9_8188_98e0d980d269row0_col1\" class=\"data row0 col1\" >484</td>\n",
       "            </tr>\n",
       "            <tr>\n",
       "                        <th id=\"T_a8c2cf66_d3f4_11e9_8188_98e0d980d269level0_row1\" class=\"row_heading level0 row1\" >Female</th>\n",
       "                        <td id=\"T_a8c2cf66_d3f4_11e9_8188_98e0d980d269row1_col0\" class=\"data row1 col0\" >14.06%</td>\n",
       "                        <td id=\"T_a8c2cf66_d3f4_11e9_8188_98e0d980d269row1_col1\" class=\"data row1 col1\" >81</td>\n",
       "            </tr>\n",
       "            <tr>\n",
       "                        <th id=\"T_a8c2cf66_d3f4_11e9_8188_98e0d980d269level0_row2\" class=\"row_heading level0 row2\" >Other / Non-Disclosed</th>\n",
       "                        <td id=\"T_a8c2cf66_d3f4_11e9_8188_98e0d980d269row2_col0\" class=\"data row2 col0\" >1.91%</td>\n",
       "                        <td id=\"T_a8c2cf66_d3f4_11e9_8188_98e0d980d269row2_col1\" class=\"data row2 col1\" >11</td>\n",
       "            </tr>\n",
       "    </tbody></table>"
      ],
      "text/plain": [
       "<pandas.io.formats.style.Styler at 0x117d37850>"
      ]
     },
     "execution_count": 90,
     "metadata": {},
     "output_type": "execute_result"
    }
   ],
   "source": [
    "gender_count = purchase_data.groupby(\"Gender\")\n",
    "gender_total = gender_count.nunique()[\"SN\"]\n",
    "gender_percent = gender_total / total_players * 100\n",
    "gender_demographics = pd.DataFrame({\"Percentage of Players\": gender_percent, \"Total Count\": gender_total})\n",
    "gender_demographics.index.name = None\n",
    "gender_demographics.sort_values([\"Total Count\"], ascending = False).style.format({\"Percentage of Players\":\"{:.2f}%\"})"
   ]
  },
  {
   "cell_type": "code",
   "execution_count": 91,
   "metadata": {},
   "outputs": [
    {
     "data": {
      "text/html": [
       "<style  type=\"text/css\" >\n",
       "</style><table id=\"T_a8d9f0ce_d3f4_11e9_8188_98e0d980d269\" ><thead>    <tr>        <th class=\"blank level0\" ></th>        <th class=\"col_heading level0 col0\" >Purchase Count</th>        <th class=\"col_heading level0 col1\" >Purchase Average</th>        <th class=\"col_heading level0 col2\" >Total Spent</th>        <th class=\"col_heading level0 col3\" >Avg Total Spent Per Person</th>    </tr>    <tr>        <th class=\"index_name level0\" >Gender</th>        <th class=\"blank\" ></th>        <th class=\"blank\" ></th>        <th class=\"blank\" ></th>        <th class=\"blank\" ></th>    </tr></thead><tbody>\n",
       "                <tr>\n",
       "                        <th id=\"T_a8d9f0ce_d3f4_11e9_8188_98e0d980d269level0_row0\" class=\"row_heading level0 row0\" >Female</th>\n",
       "                        <td id=\"T_a8d9f0ce_d3f4_11e9_8188_98e0d980d269row0_col0\" class=\"data row0 col0\" >113</td>\n",
       "                        <td id=\"T_a8d9f0ce_d3f4_11e9_8188_98e0d980d269row0_col1\" class=\"data row0 col1\" >$3.20</td>\n",
       "                        <td id=\"T_a8d9f0ce_d3f4_11e9_8188_98e0d980d269row0_col2\" class=\"data row0 col2\" >$361.94</td>\n",
       "                        <td id=\"T_a8d9f0ce_d3f4_11e9_8188_98e0d980d269row0_col3\" class=\"data row0 col3\" >$4.47</td>\n",
       "            </tr>\n",
       "            <tr>\n",
       "                        <th id=\"T_a8d9f0ce_d3f4_11e9_8188_98e0d980d269level0_row1\" class=\"row_heading level0 row1\" >Male</th>\n",
       "                        <td id=\"T_a8d9f0ce_d3f4_11e9_8188_98e0d980d269row1_col0\" class=\"data row1 col0\" >652</td>\n",
       "                        <td id=\"T_a8d9f0ce_d3f4_11e9_8188_98e0d980d269row1_col1\" class=\"data row1 col1\" >$3.02</td>\n",
       "                        <td id=\"T_a8d9f0ce_d3f4_11e9_8188_98e0d980d269row1_col2\" class=\"data row1 col2\" >$1,967.64</td>\n",
       "                        <td id=\"T_a8d9f0ce_d3f4_11e9_8188_98e0d980d269row1_col3\" class=\"data row1 col3\" >$4.07</td>\n",
       "            </tr>\n",
       "            <tr>\n",
       "                        <th id=\"T_a8d9f0ce_d3f4_11e9_8188_98e0d980d269level0_row2\" class=\"row_heading level0 row2\" >Other / Non-Disclosed</th>\n",
       "                        <td id=\"T_a8d9f0ce_d3f4_11e9_8188_98e0d980d269row2_col0\" class=\"data row2 col0\" >15</td>\n",
       "                        <td id=\"T_a8d9f0ce_d3f4_11e9_8188_98e0d980d269row2_col1\" class=\"data row2 col1\" >$3.35</td>\n",
       "                        <td id=\"T_a8d9f0ce_d3f4_11e9_8188_98e0d980d269row2_col2\" class=\"data row2 col2\" >$50.19</td>\n",
       "                        <td id=\"T_a8d9f0ce_d3f4_11e9_8188_98e0d980d269row2_col3\" class=\"data row2 col3\" >$4.56</td>\n",
       "            </tr>\n",
       "    </tbody></table>"
      ],
      "text/plain": [
       "<pandas.io.formats.style.Styler at 0x117d59bd0>"
      ]
     },
     "execution_count": 91,
     "metadata": {},
     "output_type": "execute_result"
    }
   ],
   "source": [
    "gender_purchase_count = gender_count[\"Purchase ID\"].count()\n",
    "gender_purchase_avg = gender_count[\"Price\"].mean()\n",
    "gender_total_spent = gender_count[\"Price\"].sum()\n",
    "gender_Purchase_avgpp = gender_total_spent / gender_total\n",
    "\n",
    "gender_purch_demo = pd.DataFrame({\"Purchase Count\" : gender_purchase_count, \"Purchase Average\" : gender_purchase_avg,\n",
    "                     \"Total Spent\" : gender_total_spent, \"Avg Total Spent Per Person\" : gender_Purchase_avgpp})\n",
    "gender_purch_demo.index.name = (\"Gender\")\n",
    "gender_purch_demo.style.format({\"Total Spent\":\"${:,.2f}\",\"Purchase Average\":\"${:,.2f}\",\"Avg Total Spent Per Person\":\"${:,.2f}\"})"
   ]
  },
  {
   "cell_type": "code",
   "execution_count": 92,
   "metadata": {},
   "outputs": [],
   "source": [
    "age_bins = [0,9,14,19,24,29,34,39,100]\n",
    "age_title = [\">10\", \"10-14\", \"15-19\", \"20-24\", \"25-29\", \"30-34\", \"35-39\", \"40+\"]"
   ]
  },
  {
   "cell_type": "code",
   "execution_count": 93,
   "metadata": {},
   "outputs": [
    {
     "data": {
      "text/html": [
       "<style  type=\"text/css\" >\n",
       "</style><table id=\"T_a907b658_d3f4_11e9_8188_98e0d980d269\" ><thead>    <tr>        <th class=\"blank level0\" ></th>        <th class=\"col_heading level0 col0\" >Total Count</th>        <th class=\"col_heading level0 col1\" >Percentage of Players</th>    </tr></thead><tbody>\n",
       "                <tr>\n",
       "                        <th id=\"T_a907b658_d3f4_11e9_8188_98e0d980d269level0_row0\" class=\"row_heading level0 row0\" >>10</th>\n",
       "                        <td id=\"T_a907b658_d3f4_11e9_8188_98e0d980d269row0_col0\" class=\"data row0 col0\" >17</td>\n",
       "                        <td id=\"T_a907b658_d3f4_11e9_8188_98e0d980d269row0_col1\" class=\"data row0 col1\" >2.95</td>\n",
       "            </tr>\n",
       "            <tr>\n",
       "                        <th id=\"T_a907b658_d3f4_11e9_8188_98e0d980d269level0_row1\" class=\"row_heading level0 row1\" >10-14</th>\n",
       "                        <td id=\"T_a907b658_d3f4_11e9_8188_98e0d980d269row1_col0\" class=\"data row1 col0\" >22</td>\n",
       "                        <td id=\"T_a907b658_d3f4_11e9_8188_98e0d980d269row1_col1\" class=\"data row1 col1\" >3.82</td>\n",
       "            </tr>\n",
       "            <tr>\n",
       "                        <th id=\"T_a907b658_d3f4_11e9_8188_98e0d980d269level0_row2\" class=\"row_heading level0 row2\" >15-19</th>\n",
       "                        <td id=\"T_a907b658_d3f4_11e9_8188_98e0d980d269row2_col0\" class=\"data row2 col0\" >107</td>\n",
       "                        <td id=\"T_a907b658_d3f4_11e9_8188_98e0d980d269row2_col1\" class=\"data row2 col1\" >18.58</td>\n",
       "            </tr>\n",
       "            <tr>\n",
       "                        <th id=\"T_a907b658_d3f4_11e9_8188_98e0d980d269level0_row3\" class=\"row_heading level0 row3\" >20-24</th>\n",
       "                        <td id=\"T_a907b658_d3f4_11e9_8188_98e0d980d269row3_col0\" class=\"data row3 col0\" >258</td>\n",
       "                        <td id=\"T_a907b658_d3f4_11e9_8188_98e0d980d269row3_col1\" class=\"data row3 col1\" >44.79</td>\n",
       "            </tr>\n",
       "            <tr>\n",
       "                        <th id=\"T_a907b658_d3f4_11e9_8188_98e0d980d269level0_row4\" class=\"row_heading level0 row4\" >25-29</th>\n",
       "                        <td id=\"T_a907b658_d3f4_11e9_8188_98e0d980d269row4_col0\" class=\"data row4 col0\" >77</td>\n",
       "                        <td id=\"T_a907b658_d3f4_11e9_8188_98e0d980d269row4_col1\" class=\"data row4 col1\" >13.37</td>\n",
       "            </tr>\n",
       "            <tr>\n",
       "                        <th id=\"T_a907b658_d3f4_11e9_8188_98e0d980d269level0_row5\" class=\"row_heading level0 row5\" >30-34</th>\n",
       "                        <td id=\"T_a907b658_d3f4_11e9_8188_98e0d980d269row5_col0\" class=\"data row5 col0\" >52</td>\n",
       "                        <td id=\"T_a907b658_d3f4_11e9_8188_98e0d980d269row5_col1\" class=\"data row5 col1\" >9.03</td>\n",
       "            </tr>\n",
       "            <tr>\n",
       "                        <th id=\"T_a907b658_d3f4_11e9_8188_98e0d980d269level0_row6\" class=\"row_heading level0 row6\" >35-39</th>\n",
       "                        <td id=\"T_a907b658_d3f4_11e9_8188_98e0d980d269row6_col0\" class=\"data row6 col0\" >31</td>\n",
       "                        <td id=\"T_a907b658_d3f4_11e9_8188_98e0d980d269row6_col1\" class=\"data row6 col1\" >5.38</td>\n",
       "            </tr>\n",
       "            <tr>\n",
       "                        <th id=\"T_a907b658_d3f4_11e9_8188_98e0d980d269level0_row7\" class=\"row_heading level0 row7\" >40+</th>\n",
       "                        <td id=\"T_a907b658_d3f4_11e9_8188_98e0d980d269row7_col0\" class=\"data row7 col0\" >12</td>\n",
       "                        <td id=\"T_a907b658_d3f4_11e9_8188_98e0d980d269row7_col1\" class=\"data row7 col1\" >2.08</td>\n",
       "            </tr>\n",
       "    </tbody></table>"
      ],
      "text/plain": [
       "<pandas.io.formats.style.Styler at 0x117ffa950>"
      ]
     },
     "execution_count": 93,
     "metadata": {},
     "output_type": "execute_result"
    }
   ],
   "source": [
    "purchase_data[\"Age Group\"] = pd.cut(purchase_data[\"Age\"],age_bins, labels=age_title)\n",
    "age_grouped = purchase_data.groupby(\"Age Group\")\n",
    "total_age = age_grouped[\"SN\"].nunique()\n",
    "percent_age = (total_age/total_players) * 100\n",
    "age_demographics = pd.DataFrame({\"Total Count\": total_age, \"Percentage of Players\": percent_age})\n",
    "age_demographics.index.name = None\n",
    "age_demographics.style.format({\"Percentage of Players\":\"{:,.2f}\"})"
   ]
  },
  {
   "cell_type": "code",
   "execution_count": 94,
   "metadata": {},
   "outputs": [
    {
     "data": {
      "text/html": [
       "<style  type=\"text/css\" >\n",
       "</style><table id=\"T_a91dee50_d3f4_11e9_8188_98e0d980d269\" ><thead>    <tr>        <th class=\"blank level0\" ></th>        <th class=\"col_heading level0 col0\" >Purchase Count</th>        <th class=\"col_heading level0 col1\" >Average Purchase Price</th>        <th class=\"col_heading level0 col2\" >Total Purchase</th>        <th class=\"col_heading level0 col3\" >Avg Total Purchase Per Person</th>    </tr></thead><tbody>\n",
       "                <tr>\n",
       "                        <th id=\"T_a91dee50_d3f4_11e9_8188_98e0d980d269level0_row0\" class=\"row_heading level0 row0\" >>10</th>\n",
       "                        <td id=\"T_a91dee50_d3f4_11e9_8188_98e0d980d269row0_col0\" class=\"data row0 col0\" >23</td>\n",
       "                        <td id=\"T_a91dee50_d3f4_11e9_8188_98e0d980d269row0_col1\" class=\"data row0 col1\" >$3.35</td>\n",
       "                        <td id=\"T_a91dee50_d3f4_11e9_8188_98e0d980d269row0_col2\" class=\"data row0 col2\" >$77.13</td>\n",
       "                        <td id=\"T_a91dee50_d3f4_11e9_8188_98e0d980d269row0_col3\" class=\"data row0 col3\" >$4.54</td>\n",
       "            </tr>\n",
       "            <tr>\n",
       "                        <th id=\"T_a91dee50_d3f4_11e9_8188_98e0d980d269level0_row1\" class=\"row_heading level0 row1\" >10-14</th>\n",
       "                        <td id=\"T_a91dee50_d3f4_11e9_8188_98e0d980d269row1_col0\" class=\"data row1 col0\" >28</td>\n",
       "                        <td id=\"T_a91dee50_d3f4_11e9_8188_98e0d980d269row1_col1\" class=\"data row1 col1\" >$2.96</td>\n",
       "                        <td id=\"T_a91dee50_d3f4_11e9_8188_98e0d980d269row1_col2\" class=\"data row1 col2\" >$82.78</td>\n",
       "                        <td id=\"T_a91dee50_d3f4_11e9_8188_98e0d980d269row1_col3\" class=\"data row1 col3\" >$3.76</td>\n",
       "            </tr>\n",
       "            <tr>\n",
       "                        <th id=\"T_a91dee50_d3f4_11e9_8188_98e0d980d269level0_row2\" class=\"row_heading level0 row2\" >15-19</th>\n",
       "                        <td id=\"T_a91dee50_d3f4_11e9_8188_98e0d980d269row2_col0\" class=\"data row2 col0\" >136</td>\n",
       "                        <td id=\"T_a91dee50_d3f4_11e9_8188_98e0d980d269row2_col1\" class=\"data row2 col1\" >$3.04</td>\n",
       "                        <td id=\"T_a91dee50_d3f4_11e9_8188_98e0d980d269row2_col2\" class=\"data row2 col2\" >$412.89</td>\n",
       "                        <td id=\"T_a91dee50_d3f4_11e9_8188_98e0d980d269row2_col3\" class=\"data row2 col3\" >$3.86</td>\n",
       "            </tr>\n",
       "            <tr>\n",
       "                        <th id=\"T_a91dee50_d3f4_11e9_8188_98e0d980d269level0_row3\" class=\"row_heading level0 row3\" >20-24</th>\n",
       "                        <td id=\"T_a91dee50_d3f4_11e9_8188_98e0d980d269row3_col0\" class=\"data row3 col0\" >365</td>\n",
       "                        <td id=\"T_a91dee50_d3f4_11e9_8188_98e0d980d269row3_col1\" class=\"data row3 col1\" >$3.05</td>\n",
       "                        <td id=\"T_a91dee50_d3f4_11e9_8188_98e0d980d269row3_col2\" class=\"data row3 col2\" >$1,114.06</td>\n",
       "                        <td id=\"T_a91dee50_d3f4_11e9_8188_98e0d980d269row3_col3\" class=\"data row3 col3\" >$4.32</td>\n",
       "            </tr>\n",
       "            <tr>\n",
       "                        <th id=\"T_a91dee50_d3f4_11e9_8188_98e0d980d269level0_row4\" class=\"row_heading level0 row4\" >25-29</th>\n",
       "                        <td id=\"T_a91dee50_d3f4_11e9_8188_98e0d980d269row4_col0\" class=\"data row4 col0\" >101</td>\n",
       "                        <td id=\"T_a91dee50_d3f4_11e9_8188_98e0d980d269row4_col1\" class=\"data row4 col1\" >$2.90</td>\n",
       "                        <td id=\"T_a91dee50_d3f4_11e9_8188_98e0d980d269row4_col2\" class=\"data row4 col2\" >$293.00</td>\n",
       "                        <td id=\"T_a91dee50_d3f4_11e9_8188_98e0d980d269row4_col3\" class=\"data row4 col3\" >$3.81</td>\n",
       "            </tr>\n",
       "            <tr>\n",
       "                        <th id=\"T_a91dee50_d3f4_11e9_8188_98e0d980d269level0_row5\" class=\"row_heading level0 row5\" >30-34</th>\n",
       "                        <td id=\"T_a91dee50_d3f4_11e9_8188_98e0d980d269row5_col0\" class=\"data row5 col0\" >73</td>\n",
       "                        <td id=\"T_a91dee50_d3f4_11e9_8188_98e0d980d269row5_col1\" class=\"data row5 col1\" >$2.93</td>\n",
       "                        <td id=\"T_a91dee50_d3f4_11e9_8188_98e0d980d269row5_col2\" class=\"data row5 col2\" >$214.00</td>\n",
       "                        <td id=\"T_a91dee50_d3f4_11e9_8188_98e0d980d269row5_col3\" class=\"data row5 col3\" >$4.12</td>\n",
       "            </tr>\n",
       "            <tr>\n",
       "                        <th id=\"T_a91dee50_d3f4_11e9_8188_98e0d980d269level0_row6\" class=\"row_heading level0 row6\" >35-39</th>\n",
       "                        <td id=\"T_a91dee50_d3f4_11e9_8188_98e0d980d269row6_col0\" class=\"data row6 col0\" >41</td>\n",
       "                        <td id=\"T_a91dee50_d3f4_11e9_8188_98e0d980d269row6_col1\" class=\"data row6 col1\" >$3.60</td>\n",
       "                        <td id=\"T_a91dee50_d3f4_11e9_8188_98e0d980d269row6_col2\" class=\"data row6 col2\" >$147.67</td>\n",
       "                        <td id=\"T_a91dee50_d3f4_11e9_8188_98e0d980d269row6_col3\" class=\"data row6 col3\" >$4.76</td>\n",
       "            </tr>\n",
       "            <tr>\n",
       "                        <th id=\"T_a91dee50_d3f4_11e9_8188_98e0d980d269level0_row7\" class=\"row_heading level0 row7\" >40+</th>\n",
       "                        <td id=\"T_a91dee50_d3f4_11e9_8188_98e0d980d269row7_col0\" class=\"data row7 col0\" >13</td>\n",
       "                        <td id=\"T_a91dee50_d3f4_11e9_8188_98e0d980d269row7_col1\" class=\"data row7 col1\" >$2.94</td>\n",
       "                        <td id=\"T_a91dee50_d3f4_11e9_8188_98e0d980d269row7_col2\" class=\"data row7 col2\" >$38.24</td>\n",
       "                        <td id=\"T_a91dee50_d3f4_11e9_8188_98e0d980d269row7_col3\" class=\"data row7 col3\" >$3.19</td>\n",
       "            </tr>\n",
       "    </tbody></table>"
      ],
      "text/plain": [
       "<pandas.io.formats.style.Styler at 0x118216090>"
      ]
     },
     "execution_count": 94,
     "metadata": {},
     "output_type": "execute_result"
    }
   ],
   "source": [
    "age_purchase = age_grouped[\"Purchase ID\"].count()\n",
    "age_purchase_avg = age_grouped[\"Price\"].mean()\n",
    "age_total_purchase = age_grouped[\"Price\"].sum()\n",
    "age_pp_avg = age_total_purchase/total_count_age\n",
    "age_demographics = pd.DataFrame({\"Purchase Count\": age_purchase,\"Average Purchase Price\": age_purchase_avg,\n",
    "                                 \"Total Purchase\":age_total_purchase,\"Avg Total Purchase Per Person\": age_pp_avg})\n",
    "age_demographics.index.name = None\n",
    "age_demographics.style.format({\"Average Purchase Price\":\"${:,.2f}\",\"Total Purchase\":\"${:,.2f}\",\n",
    "                               \"Avg Total Purchase Per Person\":\"${:,.2f}\"})"
   ]
  },
  {
   "cell_type": "code",
   "execution_count": 95,
   "metadata": {},
   "outputs": [
    {
     "data": {
      "text/html": [
       "<style  type=\"text/css\" >\n",
       "</style><table id=\"T_a9353c04_d3f4_11e9_8188_98e0d980d269\" ><thead>    <tr>        <th class=\"blank level0\" ></th>        <th class=\"col_heading level0 col0\" >Purchase Count</th>        <th class=\"col_heading level0 col1\" >Average Purchase Price</th>        <th class=\"col_heading level0 col2\" >Total Purchase</th>    </tr></thead><tbody>\n",
       "                <tr>\n",
       "                        <th id=\"T_a9353c04_d3f4_11e9_8188_98e0d980d269level0_row0\" class=\"row_heading level0 row0\" >Lisosia93</th>\n",
       "                        <td id=\"T_a9353c04_d3f4_11e9_8188_98e0d980d269row0_col0\" class=\"data row0 col0\" >5</td>\n",
       "                        <td id=\"T_a9353c04_d3f4_11e9_8188_98e0d980d269row0_col1\" class=\"data row0 col1\" >$3.79</td>\n",
       "                        <td id=\"T_a9353c04_d3f4_11e9_8188_98e0d980d269row0_col2\" class=\"data row0 col2\" >$18.96</td>\n",
       "            </tr>\n",
       "            <tr>\n",
       "                        <th id=\"T_a9353c04_d3f4_11e9_8188_98e0d980d269level0_row1\" class=\"row_heading level0 row1\" >Idastidru52</th>\n",
       "                        <td id=\"T_a9353c04_d3f4_11e9_8188_98e0d980d269row1_col0\" class=\"data row1 col0\" >4</td>\n",
       "                        <td id=\"T_a9353c04_d3f4_11e9_8188_98e0d980d269row1_col1\" class=\"data row1 col1\" >$3.86</td>\n",
       "                        <td id=\"T_a9353c04_d3f4_11e9_8188_98e0d980d269row1_col2\" class=\"data row1 col2\" >$15.45</td>\n",
       "            </tr>\n",
       "            <tr>\n",
       "                        <th id=\"T_a9353c04_d3f4_11e9_8188_98e0d980d269level0_row2\" class=\"row_heading level0 row2\" >Chamjask73</th>\n",
       "                        <td id=\"T_a9353c04_d3f4_11e9_8188_98e0d980d269row2_col0\" class=\"data row2 col0\" >3</td>\n",
       "                        <td id=\"T_a9353c04_d3f4_11e9_8188_98e0d980d269row2_col1\" class=\"data row2 col1\" >$4.61</td>\n",
       "                        <td id=\"T_a9353c04_d3f4_11e9_8188_98e0d980d269row2_col2\" class=\"data row2 col2\" >$13.83</td>\n",
       "            </tr>\n",
       "            <tr>\n",
       "                        <th id=\"T_a9353c04_d3f4_11e9_8188_98e0d980d269level0_row3\" class=\"row_heading level0 row3\" >Iral74</th>\n",
       "                        <td id=\"T_a9353c04_d3f4_11e9_8188_98e0d980d269row3_col0\" class=\"data row3 col0\" >4</td>\n",
       "                        <td id=\"T_a9353c04_d3f4_11e9_8188_98e0d980d269row3_col1\" class=\"data row3 col1\" >$3.40</td>\n",
       "                        <td id=\"T_a9353c04_d3f4_11e9_8188_98e0d980d269row3_col2\" class=\"data row3 col2\" >$13.62</td>\n",
       "            </tr>\n",
       "            <tr>\n",
       "                        <th id=\"T_a9353c04_d3f4_11e9_8188_98e0d980d269level0_row4\" class=\"row_heading level0 row4\" >Iskadarya95</th>\n",
       "                        <td id=\"T_a9353c04_d3f4_11e9_8188_98e0d980d269row4_col0\" class=\"data row4 col0\" >3</td>\n",
       "                        <td id=\"T_a9353c04_d3f4_11e9_8188_98e0d980d269row4_col1\" class=\"data row4 col1\" >$4.37</td>\n",
       "                        <td id=\"T_a9353c04_d3f4_11e9_8188_98e0d980d269row4_col2\" class=\"data row4 col2\" >$13.10</td>\n",
       "            </tr>\n",
       "    </tbody></table>"
      ],
      "text/plain": [
       "<pandas.io.formats.style.Styler at 0x118ad3790>"
      ]
     },
     "execution_count": 95,
     "metadata": {},
     "output_type": "execute_result"
    }
   ],
   "source": [
    "spenders = purchase_data.groupby(\"SN\")\n",
    "spender_purchases = spenders[\"Purchase ID\"].count()\n",
    "spender_avg_price = spenders[\"Price\"].mean()\n",
    "spender_purch_total = spenders[\"Price\"].sum()\n",
    "top_spenders = pd.DataFrame({\"Purchase Count\": spender_purchases,\"Average Purchase Price\": spender_avg_price,\n",
    "                             \"Total Purchase\":spender_purch_total})\n",
    "top_spenders = top_spenders.sort_values([\"Total Purchase\"], ascending=False).head()\n",
    "top_spenders.index.name = None\n",
    "top_spenders.style.format({\"Average Purchase Total\":\"${:,.2f}\",\"Average Purchase Price\":\"${:,.2f}\", \n",
    "                            \"Total Purchase\":\"${:,.2f}\"})"
   ]
  },
  {
   "cell_type": "code",
   "execution_count": 114,
   "metadata": {},
   "outputs": [
    {
     "data": {
      "text/html": [
       "<style  type=\"text/css\" >\n",
       "</style><table id=\"T_69b07412_d3f5_11e9_8188_98e0d980d269\" ><thead>    <tr>        <th class=\"blank\" ></th>        <th class=\"blank level0\" ></th>        <th class=\"col_heading level0 col0\" >Purchase Count</th>        <th class=\"col_heading level0 col1\" >Item Price</th>        <th class=\"col_heading level0 col2\" >Total Purchase</th>    </tr>    <tr>        <th class=\"index_name level0\" >Item ID</th>        <th class=\"index_name level1\" >Item Name</th>        <th class=\"blank\" ></th>        <th class=\"blank\" ></th>        <th class=\"blank\" ></th>    </tr></thead><tbody>\n",
       "                <tr>\n",
       "                        <th id=\"T_69b07412_d3f5_11e9_8188_98e0d980d269level0_row0\" class=\"row_heading level0 row0\" >178</th>\n",
       "                        <th id=\"T_69b07412_d3f5_11e9_8188_98e0d980d269level1_row0\" class=\"row_heading level1 row0\" >Oathbreaker, Last Hope of the Breaking Storm</th>\n",
       "                        <td id=\"T_69b07412_d3f5_11e9_8188_98e0d980d269row0_col0\" class=\"data row0 col0\" >12</td>\n",
       "                        <td id=\"T_69b07412_d3f5_11e9_8188_98e0d980d269row0_col1\" class=\"data row0 col1\" >$4.23</td>\n",
       "                        <td id=\"T_69b07412_d3f5_11e9_8188_98e0d980d269row0_col2\" class=\"data row0 col2\" >$50.76</td>\n",
       "            </tr>\n",
       "            <tr>\n",
       "                        <th id=\"T_69b07412_d3f5_11e9_8188_98e0d980d269level0_row1\" class=\"row_heading level0 row1\" >145</th>\n",
       "                        <th id=\"T_69b07412_d3f5_11e9_8188_98e0d980d269level1_row1\" class=\"row_heading level1 row1\" >Fiery Glass Crusader</th>\n",
       "                        <td id=\"T_69b07412_d3f5_11e9_8188_98e0d980d269row1_col0\" class=\"data row1 col0\" >9</td>\n",
       "                        <td id=\"T_69b07412_d3f5_11e9_8188_98e0d980d269row1_col1\" class=\"data row1 col1\" >$4.58</td>\n",
       "                        <td id=\"T_69b07412_d3f5_11e9_8188_98e0d980d269row1_col2\" class=\"data row1 col2\" >$41.22</td>\n",
       "            </tr>\n",
       "            <tr>\n",
       "                        <th id=\"T_69b07412_d3f5_11e9_8188_98e0d980d269level0_row2\" class=\"row_heading level0 row2\" >108</th>\n",
       "                        <th id=\"T_69b07412_d3f5_11e9_8188_98e0d980d269level1_row2\" class=\"row_heading level1 row2\" >Extraction, Quickblade Of Trembling Hands</th>\n",
       "                        <td id=\"T_69b07412_d3f5_11e9_8188_98e0d980d269row2_col0\" class=\"data row2 col0\" >9</td>\n",
       "                        <td id=\"T_69b07412_d3f5_11e9_8188_98e0d980d269row2_col1\" class=\"data row2 col1\" >$3.53</td>\n",
       "                        <td id=\"T_69b07412_d3f5_11e9_8188_98e0d980d269row2_col2\" class=\"data row2 col2\" >$31.77</td>\n",
       "            </tr>\n",
       "            <tr>\n",
       "                        <th id=\"T_69b07412_d3f5_11e9_8188_98e0d980d269level0_row3\" class=\"row_heading level0 row3\" >82</th>\n",
       "                        <th id=\"T_69b07412_d3f5_11e9_8188_98e0d980d269level1_row3\" class=\"row_heading level1 row3\" >Nirvana</th>\n",
       "                        <td id=\"T_69b07412_d3f5_11e9_8188_98e0d980d269row3_col0\" class=\"data row3 col0\" >9</td>\n",
       "                        <td id=\"T_69b07412_d3f5_11e9_8188_98e0d980d269row3_col1\" class=\"data row3 col1\" >$4.90</td>\n",
       "                        <td id=\"T_69b07412_d3f5_11e9_8188_98e0d980d269row3_col2\" class=\"data row3 col2\" >$44.10</td>\n",
       "            </tr>\n",
       "            <tr>\n",
       "                        <th id=\"T_69b07412_d3f5_11e9_8188_98e0d980d269level0_row4\" class=\"row_heading level0 row4\" >19</th>\n",
       "                        <th id=\"T_69b07412_d3f5_11e9_8188_98e0d980d269level1_row4\" class=\"row_heading level1 row4\" >Pursuit, Cudgel of Necromancy</th>\n",
       "                        <td id=\"T_69b07412_d3f5_11e9_8188_98e0d980d269row4_col0\" class=\"data row4 col0\" >8</td>\n",
       "                        <td id=\"T_69b07412_d3f5_11e9_8188_98e0d980d269row4_col1\" class=\"data row4 col1\" >$1.02</td>\n",
       "                        <td id=\"T_69b07412_d3f5_11e9_8188_98e0d980d269row4_col2\" class=\"data row4 col2\" >$8.16</td>\n",
       "            </tr>\n",
       "    </tbody></table>"
      ],
      "text/plain": [
       "<pandas.io.formats.style.Styler at 0x117d5a090>"
      ]
     },
     "execution_count": 114,
     "metadata": {},
     "output_type": "execute_result"
    }
   ],
   "source": [
    "items = purchase_data[[\"Item ID\", \"Item Name\", \"Price\"]]\n",
    "items_group = items.groupby([\"Item ID\",\"Item Name\"])\n",
    "purch_items = items_group[\"Price\"].count()\n",
    "purchase_total = (items_group[\"Price\"].sum()) \n",
    "item_price = purchase_total / purch_items\n",
    "pop_items = pd.DataFrame({\"Purchase Count\": purch_items, \"Item Price\": item_price,\n",
    "                            \"Total Purchase\":purchase_value})\n",
    "pop_items = pop_items.sort_values([\"Purchase Count\"], ascending=False).head()\n",
    "pop_items.index.name = None\n",
    "pop_items.style.format({\"Item Price\":\"${:,.2f}\", \"Total Purchase\":\"${:,.2f}\"})"
   ]
  },
  {
   "cell_type": "code",
   "execution_count": 118,
   "metadata": {},
   "outputs": [
    {
     "data": {
      "text/html": [
       "<style  type=\"text/css\" >\n",
       "</style><table id=\"T_edcba6a4_d3f5_11e9_8188_98e0d980d269\" ><thead>    <tr>        <th class=\"blank\" ></th>        <th class=\"blank level0\" ></th>        <th class=\"col_heading level0 col0\" >Purchase Count</th>        <th class=\"col_heading level0 col1\" >Item Price</th>        <th class=\"col_heading level0 col2\" >Total Purchase</th>    </tr>    <tr>        <th class=\"index_name level0\" >Item ID</th>        <th class=\"index_name level1\" >Item Name</th>        <th class=\"blank\" ></th>        <th class=\"blank\" ></th>        <th class=\"blank\" ></th>    </tr></thead><tbody>\n",
       "                <tr>\n",
       "                        <th id=\"T_edcba6a4_d3f5_11e9_8188_98e0d980d269level0_row0\" class=\"row_heading level0 row0\" >178</th>\n",
       "                        <th id=\"T_edcba6a4_d3f5_11e9_8188_98e0d980d269level1_row0\" class=\"row_heading level1 row0\" >Oathbreaker, Last Hope of the Breaking Storm</th>\n",
       "                        <td id=\"T_edcba6a4_d3f5_11e9_8188_98e0d980d269row0_col0\" class=\"data row0 col0\" >12</td>\n",
       "                        <td id=\"T_edcba6a4_d3f5_11e9_8188_98e0d980d269row0_col1\" class=\"data row0 col1\" >$4.23</td>\n",
       "                        <td id=\"T_edcba6a4_d3f5_11e9_8188_98e0d980d269row0_col2\" class=\"data row0 col2\" >$50.76</td>\n",
       "            </tr>\n",
       "            <tr>\n",
       "                        <th id=\"T_edcba6a4_d3f5_11e9_8188_98e0d980d269level0_row1\" class=\"row_heading level0 row1\" >82</th>\n",
       "                        <th id=\"T_edcba6a4_d3f5_11e9_8188_98e0d980d269level1_row1\" class=\"row_heading level1 row1\" >Nirvana</th>\n",
       "                        <td id=\"T_edcba6a4_d3f5_11e9_8188_98e0d980d269row1_col0\" class=\"data row1 col0\" >9</td>\n",
       "                        <td id=\"T_edcba6a4_d3f5_11e9_8188_98e0d980d269row1_col1\" class=\"data row1 col1\" >$4.90</td>\n",
       "                        <td id=\"T_edcba6a4_d3f5_11e9_8188_98e0d980d269row1_col2\" class=\"data row1 col2\" >$44.10</td>\n",
       "            </tr>\n",
       "            <tr>\n",
       "                        <th id=\"T_edcba6a4_d3f5_11e9_8188_98e0d980d269level0_row2\" class=\"row_heading level0 row2\" >145</th>\n",
       "                        <th id=\"T_edcba6a4_d3f5_11e9_8188_98e0d980d269level1_row2\" class=\"row_heading level1 row2\" >Fiery Glass Crusader</th>\n",
       "                        <td id=\"T_edcba6a4_d3f5_11e9_8188_98e0d980d269row2_col0\" class=\"data row2 col0\" >9</td>\n",
       "                        <td id=\"T_edcba6a4_d3f5_11e9_8188_98e0d980d269row2_col1\" class=\"data row2 col1\" >$4.58</td>\n",
       "                        <td id=\"T_edcba6a4_d3f5_11e9_8188_98e0d980d269row2_col2\" class=\"data row2 col2\" >$41.22</td>\n",
       "            </tr>\n",
       "            <tr>\n",
       "                        <th id=\"T_edcba6a4_d3f5_11e9_8188_98e0d980d269level0_row3\" class=\"row_heading level0 row3\" >108</th>\n",
       "                        <th id=\"T_edcba6a4_d3f5_11e9_8188_98e0d980d269level1_row3\" class=\"row_heading level1 row3\" >Extraction, Quickblade Of Trembling Hands</th>\n",
       "                        <td id=\"T_edcba6a4_d3f5_11e9_8188_98e0d980d269row3_col0\" class=\"data row3 col0\" >9</td>\n",
       "                        <td id=\"T_edcba6a4_d3f5_11e9_8188_98e0d980d269row3_col1\" class=\"data row3 col1\" >$3.53</td>\n",
       "                        <td id=\"T_edcba6a4_d3f5_11e9_8188_98e0d980d269row3_col2\" class=\"data row3 col2\" >$31.77</td>\n",
       "            </tr>\n",
       "            <tr>\n",
       "                        <th id=\"T_edcba6a4_d3f5_11e9_8188_98e0d980d269level0_row4\" class=\"row_heading level0 row4\" >19</th>\n",
       "                        <th id=\"T_edcba6a4_d3f5_11e9_8188_98e0d980d269level1_row4\" class=\"row_heading level1 row4\" >Pursuit, Cudgel of Necromancy</th>\n",
       "                        <td id=\"T_edcba6a4_d3f5_11e9_8188_98e0d980d269row4_col0\" class=\"data row4 col0\" >8</td>\n",
       "                        <td id=\"T_edcba6a4_d3f5_11e9_8188_98e0d980d269row4_col1\" class=\"data row4 col1\" >$1.02</td>\n",
       "                        <td id=\"T_edcba6a4_d3f5_11e9_8188_98e0d980d269row4_col2\" class=\"data row4 col2\" >$8.16</td>\n",
       "            </tr>\n",
       "    </tbody></table>"
      ],
      "text/plain": [
       "<pandas.io.formats.style.Styler at 0x1182d2d90>"
      ]
     },
     "execution_count": 118,
     "metadata": {},
     "output_type": "execute_result"
    }
   ],
   "source": [
    "pop_items = pop_items.sort_values([\"Total Purchase\"], ascending=False).head()\n",
    "pop_items.index.name = None\n",
    "pop_items.style.format({\"Item Price\":\"${:,.2f}\", \"Total Purchase\":\"${:,.2f}\"})"
   ]
  },
  {
   "cell_type": "code",
   "execution_count": null,
   "metadata": {},
   "outputs": [],
   "source": [
    "# THREE TRENDS \n",
    "\n",
    "#1 Our biggest spends are people ages 20-24 with 15-19 year olds coming in a far second.\n",
    "#  We should focus a larger portion of our marketing towards these two age ranges but still cater to our other ages\n",
    "\n",
    "#2 We have a lot of Male customers at 84% but the Female demographic is at 14%, id like to keep track of the growing \n",
    "#  or slimming gender gap to see if we should invest into growing the female customer demographic \n",
    "\n",
    "#3 \"Oathbreaker, Last Hope of the Breaking Storm\" is our top seller item but \"Nirvana\" and \"Fiery Glass Crusader\" are \n",
    "#  a close second, with all other items below the top 4 not making as much revenue. What is it about these items that\n",
    "#  make them sell at larger volumes even though they are more expensive items. "
   ]
  },
  {
   "cell_type": "code",
   "execution_count": null,
   "metadata": {},
   "outputs": [],
   "source": []
  }
 ],
 "metadata": {
  "kernelspec": {
   "display_name": "Python 3",
   "language": "python",
   "name": "python3"
  },
  "language_info": {
   "codemirror_mode": {
    "name": "ipython",
    "version": 3
   },
   "file_extension": ".py",
   "mimetype": "text/x-python",
   "name": "python",
   "nbconvert_exporter": "python",
   "pygments_lexer": "ipython3",
   "version": "3.7.4"
  }
 },
 "nbformat": 4,
 "nbformat_minor": 2
}
